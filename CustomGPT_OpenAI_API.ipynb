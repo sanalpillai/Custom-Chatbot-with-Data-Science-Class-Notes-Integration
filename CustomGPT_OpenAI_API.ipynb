{
  "nbformat": 4,
  "nbformat_minor": 0,
  "metadata": {
    "colab": {
      "provenance": [],
      "authorship_tag": "ABX9TyOe14ckfEOee2AvHMlx/jK/",
      "include_colab_link": true
    },
    "kernelspec": {
      "name": "python3",
      "display_name": "Python 3"
    },
    "language_info": {
      "name": "python"
    }
  },
  "cells": [
    {
      "cell_type": "markdown",
      "metadata": {
        "id": "view-in-github",
        "colab_type": "text"
      },
      "source": [
        "<a href=\"https://colab.research.google.com/github/sanalpillai/CustomGPT/blob/main/CustomGPT_OpenAI_API.ipynb\" target=\"_parent\"><img src=\"https://colab.research.google.com/assets/colab-badge.svg\" alt=\"Open In Colab\"/></a>"
      ]
    },
    {
      "cell_type": "code",
      "source": [
        "#!pip install openai\n",
        "!pip install openai==0.28\n",
        "!pip install PyMuPDF"
      ],
      "metadata": {
        "colab": {
          "base_uri": "https://localhost:8080/"
        },
        "id": "_X3edT5uc4bX",
        "outputId": "36009cd3-e44a-44e5-8d7e-7e062974db00"
      },
      "execution_count": 40,
      "outputs": [
        {
          "output_type": "stream",
          "name": "stdout",
          "text": [
            "Requirement already satisfied: openai==0.28 in /usr/local/lib/python3.10/dist-packages (0.28.0)\n",
            "Requirement already satisfied: requests>=2.20 in /usr/local/lib/python3.10/dist-packages (from openai==0.28) (2.31.0)\n",
            "Requirement already satisfied: tqdm in /usr/local/lib/python3.10/dist-packages (from openai==0.28) (4.66.2)\n",
            "Requirement already satisfied: aiohttp in /usr/local/lib/python3.10/dist-packages (from openai==0.28) (3.9.3)\n",
            "Requirement already satisfied: charset-normalizer<4,>=2 in /usr/local/lib/python3.10/dist-packages (from requests>=2.20->openai==0.28) (3.3.2)\n",
            "Requirement already satisfied: idna<4,>=2.5 in /usr/local/lib/python3.10/dist-packages (from requests>=2.20->openai==0.28) (3.6)\n",
            "Requirement already satisfied: urllib3<3,>=1.21.1 in /usr/local/lib/python3.10/dist-packages (from requests>=2.20->openai==0.28) (2.0.7)\n",
            "Requirement already satisfied: certifi>=2017.4.17 in /usr/local/lib/python3.10/dist-packages (from requests>=2.20->openai==0.28) (2024.2.2)\n",
            "Requirement already satisfied: aiosignal>=1.1.2 in /usr/local/lib/python3.10/dist-packages (from aiohttp->openai==0.28) (1.3.1)\n",
            "Requirement already satisfied: attrs>=17.3.0 in /usr/local/lib/python3.10/dist-packages (from aiohttp->openai==0.28) (23.2.0)\n",
            "Requirement already satisfied: frozenlist>=1.1.1 in /usr/local/lib/python3.10/dist-packages (from aiohttp->openai==0.28) (1.4.1)\n",
            "Requirement already satisfied: multidict<7.0,>=4.5 in /usr/local/lib/python3.10/dist-packages (from aiohttp->openai==0.28) (6.0.5)\n",
            "Requirement already satisfied: yarl<2.0,>=1.0 in /usr/local/lib/python3.10/dist-packages (from aiohttp->openai==0.28) (1.9.4)\n",
            "Requirement already satisfied: async-timeout<5.0,>=4.0 in /usr/local/lib/python3.10/dist-packages (from aiohttp->openai==0.28) (4.0.3)\n",
            "Requirement already satisfied: PyMuPDF in /usr/local/lib/python3.10/dist-packages (1.24.0)\n",
            "Requirement already satisfied: PyMuPDFb==1.24.0 in /usr/local/lib/python3.10/dist-packages (from PyMuPDF) (1.24.0)\n"
          ]
        }
      ]
    },
    {
      "cell_type": "code",
      "source": [
        "import fitz  # PyMuPDF\n",
        "import openai\n",
        "import os\n",
        "\n",
        "# Function to extract text from PDF\n",
        "def extract_text_from_pdf(pdf_path):\n",
        "    doc = fitz.open(pdf_path)\n",
        "    text = \"\"\n",
        "    for page in doc:\n",
        "        text += page.get_text()\n",
        "    return text\n",
        "\n",
        "# Assuming the 'INFO_6105_DSEM_Notes.pdf' is in the same directory as your script\n",
        "pdf_text = extract_text_from_pdf(\"Overfitting_Validation_Regression_Regularization_Resampling-Methods.pdf\")"
      ],
      "metadata": {
        "id": "3_AVATo5c9vX"
      },
      "execution_count": 41,
      "outputs": []
    },
    {
      "cell_type": "code",
      "source": [
        "import os\n",
        "\n",
        "# Set the OPENAI_API_KEY environment variable\n",
        "os.environ[\"OPENAI_API_KEY\"] = \"your_key\"\n"
      ],
      "metadata": {
        "id": "Rgbm43DXdGEL"
      },
      "execution_count": 42,
      "outputs": []
    },
    {
      "cell_type": "code",
      "source": [
        "import openai\n",
        "\n",
        "def chatbot(pdf_content):\n",
        "    openai.api_key = os.getenv(\"OPENAI_API_KEY\")\n",
        "\n",
        "    conversation = [\n",
        "        {\"role\": \"system\", \"content\": \"The following information is based on class notes: \" + pdf_content},\n",
        "    ]\n",
        "\n",
        "    print(\"\\n--- Start of Chatbot Conversation ---\\n\")\n",
        "\n",
        "    while True:\n",
        "        user_message = input(\"Ask your question: \")\n",
        "        if user_message.lower() == \"quit\":\n",
        "            print(\"\\n--- End of Chatbot Conversation ---\\n\")\n",
        "            break\n",
        "\n",
        "        conversation.append({\"role\": \"user\", \"content\": user_message})\n",
        "\n",
        "        response = openai.ChatCompletion.create(\n",
        "            model=\"gpt-3.5-turbo\",\n",
        "            messages=conversation,\n",
        "            ##max_tokens=150\n",
        "        )\n",
        "\n",
        "        bot_message = response.choices[0].message['content'].strip()\n",
        "        print(\"\\nBot:\", bot_message, \"\\n\")\n",
        "        conversation.append({\"role\": \"assistant\", \"content\": bot_message})\n",
        "\n",
        "if __name__ == \"__main__\":\n",
        "    # This line extracts text from your PDF and stores it in pdf_text\n",
        "    pdf_text = extract_text_from_pdf(\"Overfitting_Validation_Regression_Regularization_Resampling-Methods.pdf\")\n",
        "    # Now, use the extracted text for your chatbot conversation\n",
        "    chatbot(pdf_text)"
      ],
      "metadata": {
        "colab": {
          "base_uri": "https://localhost:8080/"
        },
        "id": "OzHkGV5WdJPM",
        "outputId": "d0d8907b-fab7-4a47-d94e-517434bff0de"
      },
      "execution_count": 45,
      "outputs": [
        {
          "output_type": "stream",
          "name": "stdout",
          "text": [
            "\n",
            "--- Start of Chatbot Conversation ---\n",
            "\n",
            "Ask your question: What are the Resampling techniques?\n",
            "\n",
            "Bot: Resampling techniques are statistical methods used to generate new data points in a dataset by randomly sampling from the existing dataset. These techniques help in creating new datasets for training machine learning models and estimating properties of a dataset when certain information is unknown, difficult to estimate, or when the sample size is small. Two common resampling techniques are Cross-Validation and Bootstrapping. \n",
            "\n",
            "1. **Cross-Validation**\n",
            "   - **Validation Set Approach**: In this basic approach, the dataset is randomly split into two parts - a training set and a validation set (also known as a hold-out set). The model is trained on the training set and then tested on the validation set to evaluate its performance.\n",
            "   - **Leave-One-Out-Cross-Validation (LOOCV)**: Instead of splitting the dataset into two halves, LOOCV uses all but one observation for training and the remaining one for validation. This process is repeated for each observation in the dataset.\n",
            "   - **k-Fold Cross-Validation**: The dataset is divided into k folds of almost equal size. The model is trained on k-1 folds and validated on the remaining fold. This process is repeated k times, each time using a different fold as the validation set.\n",
            "\n",
            "2. **Bootstrapping**\n",
            "   - Bootstrapping is a resampling technique that involves sampling the original dataset with replacement to create multiple new datasets of the same size as the original.\n",
            "   - Each of the new datasets is then used to calculate a statistic of interest (e.g., mean, standard deviation). This process is repeated multiple times to obtain a distribution of the statistic.\n",
            "   - Bootstrapping is commonly used in machine learning to estimate the accuracy of models, validate their performance, and identify areas for improvement.\n",
            "\n",
            "These resampling techniques are valuable tools in machine learning and statistical analysis for assessing model performance and making informed decisions based on limited data. \n",
            "\n",
            "Ask your question: What is Validation?\n",
            "\n",
            "Bot: Validation in machine learning is a crucial process used to evaluate the performance of a model. It involves testing the model on a set of data that is separate from the data used for training. The primary objectives of validation are as follows:\n",
            "\n",
            "1. **Assessing Model Performance**: Validation helps in determining how well the model performs by evaluating metrics such as accuracy, precision, recall, F1 score, depending on the task (classification, regression, etc.).\n",
            "\n",
            "2. **Preventing Overfitting**: One of the key goals of validation is to check for overfitting. Overfitting occurs when a model learns the training data too well, including noise and outliers, which may lead to poor performance on new, unseen data. Validation helps in identifying if the model is generalizing well to new data.\n",
            "\n",
            "3. **Model Selection and Tuning**: Validation enables the comparison of different models or configurations of the same model (hyperparameters) to select the best-performing model. It is essential for fine-tuning a model to achieve optimal results.\n",
            "\n",
            "4. **Feature Evaluation**: Validation can also be used to assess the importance and impact of different features (input variables) on the model's performance.\n",
            "\n",
            "In summary, validation is a critical step in the machine learning workflow that helps in ensuring that a model generalizes well to new data, identifies potential issues such as overfitting, and assists in selecting and fine-tuning models for optimal performance. \n",
            "\n",
            "Ask your question: What are the Model Validation Techniques?\n",
            "\n",
            "Bot: Model validation techniques are essential methods used to evaluate the performance of machine learning models and ensure their reliability and effectiveness. Here are some common model validation techniques:\n",
            "\n",
            "1. **Train and Test Split or Holdout**: In this basic validation technique, the dataset is divided into two parts - a training set and a testing set. The model is trained on the training set and evaluated on the testing set to assess its performance.\n",
            "\n",
            "2. **Resubstitution**: In this method, the entire dataset is used for training the model, and the error rate of the model's predictions is compared against the actual values in the training dataset.\n",
            "\n",
            "3. **K-Fold Cross-Validation**: The dataset is divided into k subsets (folds), and the model is trained and evaluated k times, each time using a different fold as the test set and the remaining folds as the training set.\n",
            "\n",
            "4. **Random Subsampling**: Similar to the train/test split method, but the test set is randomly sampled from the dataset, and the remaining data is used for training.\n",
            "\n",
            "5. **Bootstrapping**: A resampling technique that involves sampling the dataset with replacement to estimate the properties of a dataset or evaluate the model's performance.\n",
            "\n",
            "6. **Nested Cross-Validation**: This technique involves nested k-fold cross-validation loops, where one loop is used for hyperparameter tuning, and the other loop is used for error testing and accuracy estimation.\n",
            "\n",
            "Each validation technique has its advantages and is suitable for different scenarios based on the dataset size, model complexity, and specific requirements of the machine learning task. Choosing the right validation technique is crucial for accurately assessing the model's performance and making informed decisions about model selection and tuning. \n",
            "\n",
            "Ask your question: What is Regression?\n",
            "\n",
            "Bot: Regression is a statistical method used in machine learning and data analysis to explore the relationship between a dependent variable and one or more independent variables. The main goal of regression analysis is to predict or estimate the value of the dependent variable based on the values of the independent variables.\n",
            "\n",
            "Key points about regression include:\n",
            "\n",
            "1. **Dependent Variable**: The variable that we want to predict or explain is called the dependent variable. It is often denoted as Y.\n",
            "\n",
            "2. **Independent Variables**: These are the variables that are used to predict the dependent variable. They are also known as predictor variables or features and are denoted as X.\n",
            "\n",
            "3. **Relationship**: Regression analysis is used to model the relationship between the independent and dependent variables. The relationship can be linear or nonlinear, depending on the nature of the data.\n",
            "\n",
            "4. **Types of Regression Models**:\n",
            "   - **Linear Regression**: It assumes a linear relationship between the independent and dependent variables.\n",
            "   - **Polynomial Regression**: It involves fitting a polynomial function to the data.\n",
            "   - **Logistic Regression**: It is used for predicting binary outcomes or probabilities.\n",
            "   - Other types include Ridge Regression, Lasso Regression, and more.\n",
            "\n",
            "5. **Applications**: Regression analysis is used for various purposes, including prediction, forecasting, time series analysis, and identifying the causal relationship between variables.\n",
            "\n",
            "6. **Evaluation**: To assess the performance of a regression model, metrics like Mean Squared Error (MSE), R-squared value, Root Mean Squared Error (RMSE), and others are commonly used.\n",
            "\n",
            "In summary, regression is a valuable statistical method that allows data scientists and analysts to understand and predict relationships between variables. It is a fundamental tool in machine learning for building predictive models and making data-driven decisions. \n",
            "\n",
            "Ask your question: quit\n",
            "\n",
            "--- End of Chatbot Conversation ---\n",
            "\n"
          ]
        }
      ]
    }
  ]
}